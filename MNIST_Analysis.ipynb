{
  "cells": [
    {
      "cell_type": "markdown",
      "metadata": {
        "id": "gOX6NFQ2oDDW"
      },
      "source": [
        "# MNIST\n",
        "\n",
        "Neste exercício, usaremos o conjunto de dados MNIST, que é um conjunto de 70.000 pequenas imagens de dígitos manuscritos por estudantes do ensino médio e funcionários do US Census Bureau. Cada imagem é rotulada com o dígito que representa. Esse conjunto foi estudado tanto que costuma ser chamado de “Olá Mundo” do Machine Learning: sempre que as pessoas criam um novo algoritmo de classificação, ficam curiosas para ver como ele será executado no MNIST. Sempre que alguém aprende o Machine Learning, mais cedo ou mais tarde ele enfrenta o MNIST.\n",
        "\n",
        "https://en.wikipedia.org/wiki/MNIST_database"
      ]
    },
    {
      "cell_type": "markdown",
      "metadata": {
        "id": "23vIHQ8DoDDa"
      },
      "source": [
        "![https://upload.wikimedia.org/wikipedia/commons/2/27/MnistExamples.png](https://upload.wikimedia.org/wikipedia/commons/2/27/MnistExamples.png)\n",
        "              Referência: https://upload.wikimedia.org/wikipedia/commons/2/27/MnistExamples.png"
      ]
    },
    {
      "cell_type": "markdown",
      "metadata": {
        "id": "nXo8DfkdoDDe"
      },
      "source": [
        "# Lendo dados do MNIST"
      ]
    },
    {
      "cell_type": "code",
      "execution_count": null,
      "metadata": {
        "colab": {
          "base_uri": "https://localhost:8080/"
        },
        "id": "Wxwk9TE5oDDe",
        "outputId": "63012767-062d-4994-af4b-1c93f1b79290"
      },
      "outputs": [
        {
          "data": {
            "text/plain": [
              "dict_keys(['data', 'target', 'frame', 'feature_names', 'target_names', 'DESCR', 'details', 'categories', 'url'])"
            ]
          },
          "execution_count": 1,
          "metadata": {
            "tags": []
          },
          "output_type": "execute_result"
        }
      ],
      "source": [
        "from sklearn.datasets import fetch_openml\n",
        "\n",
        "mnist = fetch_openml('mnist_784', version=1)\n",
        "mnist.keys()"
      ]
    },
    {
      "cell_type": "code",
      "execution_count": null,
      "metadata": {
        "colab": {
          "base_uri": "https://localhost:8080/"
        },
        "id": "qk25A9_7oDDf",
        "outputId": "c63f6425-8997-4656-a329-d6c207d0bf32"
      },
      "outputs": [
        {
          "data": {
            "text/plain": [
              "array([[0., 0., 0., ..., 0., 0., 0.],\n",
              "       [0., 0., 0., ..., 0., 0., 0.],\n",
              "       [0., 0., 0., ..., 0., 0., 0.],\n",
              "       ...,\n",
              "       [0., 0., 0., ..., 0., 0., 0.],\n",
              "       [0., 0., 0., ..., 0., 0., 0.],\n",
              "       [0., 0., 0., ..., 0., 0., 0.]])"
            ]
          },
          "execution_count": 2,
          "metadata": {
            "tags": []
          },
          "output_type": "execute_result"
        }
      ],
      "source": [
        "mnist['data']"
      ]
    },
    {
      "cell_type": "markdown",
      "metadata": {
        "id": "2ER_dHOPoDDf"
      },
      "source": [
        "# Conjunto de dados"
      ]
    },
    {
      "cell_type": "code",
      "execution_count": null,
      "metadata": {
        "colab": {
          "base_uri": "https://localhost:8080/"
        },
        "id": "rGkS2OhtoDDf",
        "outputId": "cd3ae1e9-414e-4c0f-9b83-3c4d19310053"
      },
      "outputs": [
        {
          "data": {
            "text/plain": [
              "((70000, 784), (70000,))"
            ]
          },
          "execution_count": 3,
          "metadata": {
            "tags": []
          },
          "output_type": "execute_result"
        }
      ],
      "source": [
        "X, y = mnist[\"data\"], mnist[\"target\"]\n",
        "X.shape, y.shape"
      ]
    },
    {
      "cell_type": "markdown",
      "metadata": {
        "id": "1RbvLyxsoDDg"
      },
      "source": [
        "# Observando um caractere do MNIST"
      ]
    },
    {
      "cell_type": "code",
      "execution_count": null,
      "metadata": {
        "colab": {
          "base_uri": "https://localhost:8080/",
          "height": 266
        },
        "id": "jCXPT-NRoDDg",
        "outputId": "c9a1161b-fde6-4fcb-96b6-0873f9011834"
      },
      "outputs": [
        {
          "data": {
            "image/png": "[encoded data removed]",
            "text/plain": [
              "<Figure size 432x288 with 1 Axes>"
            ]
          },
          "metadata": {
            "needs_background": "light",
            "tags": []
          },
          "output_type": "display_data"
        },
        {
          "data": {
            "application/vnd.google.colaboratory.intrinsic+json": {
              "type": "string"
            },
            "text/plain": [
              "'7'"
            ]
          },
          "execution_count": 4,
          "metadata": {
            "tags": []
          },
          "output_type": "execute_result"
        }
      ],
      "source": [
        "import matplotlib as mpl\n",
        "import matplotlib.pyplot as plt\n",
        "import numpy as np\n",
        "\n",
        "some_digit = np.array(X[3000])\n",
        "some_digit_image = some_digit.reshape(28,28)\n",
        "\n",
        "plt.imshow(some_digit_image, cmap = mpl.cm.binary, interpolation=\"nearest\")\n",
        "plt.axis(\"off\")\n",
        "plt.show()\n",
        "\n",
        "y[5000]"
      ]
    },
    {
      "cell_type": "code",
      "execution_count": null,
      "metadata": {
        "colab": {
          "base_uri": "https://localhost:8080/"
        },
        "id": "FAMLJ5a6oDDj",
        "outputId": "256d6124-ea43-4b48-84c8-d0181d8df351"
      },
      "outputs": [
        {
          "data": {
            "text/plain": [
              "array([[  0.,   0.,   0.,   0.,   0.,   0.,   0.,   0.,   0.,   0.,   0.,\n",
              "          0.,   0.,   0.,   0.,   0.,   0.,   0.,   0.,   0.,   0.,   0.,\n",
              "          0.,   0.,   0.,   0.,   0.,   0.],\n",
              "       [  0.,   0.,   0.,   0.,   0.,   0.,   0.,   0.,   0.,   0.,   0.,\n",
              "          0.,   0.,   0.,   0.,   0.,   0.,   0.,   0.,   0.,   0.,   0.,\n",
              "          0.,   0.,   0.,   0.,   0.,   0.],\n",
              "       [  0.,   0.,   0.,   0.,   0.,   0.,   0.,   0.,   0.,   0.,   0.,\n",
              "          0.,   0.,   0.,   0.,   0.,   0.,   0.,   0.,   0.,   0.,   0.,\n",
              "          0.,   0.,   0.,   0.,   0.,   0.],\n",
              "       [  0.,   0.,   0.,   0.,   0.,   0.,   0.,   0.,   0.,   0.,   0.,\n",
              "          0.,   0.,   0.,   0.,   0.,   0.,   0.,   0.,   0.,   0.,   0.,\n",
              "          0.,   0.,   0.,   0.,   0.,   0.],\n",
              "       [  0.,   0.,   0.,   0.,   0.,   0.,   0.,   0.,   0.,   0.,   0.,\n",
              "          0.,   0.,   0.,   0.,   0.,   0.,   0.,   0.,   0.,   0.,   0.,\n",
              "          0.,   0.,   0.,   0.,   0.,   0.],\n",
              "       [  0.,   0.,   0.,   0.,   0.,   0.,   0.,   0.,   0.,   0.,   0.,\n",
              "          0.,   0.,   0.,   0.,   0.,   0.,   0.,   0.,   0.,   0.,   0.,\n",
              "          0.,   0.,   0.,   0.,   0.,   0.],\n",
              "       [  0.,   0.,   0.,   0.,   0.,   0.,   0.,   0.,   0.,   0.,   0.,\n",
              "          0.,   0.,  25.,  91., 174., 254., 254., 255., 254., 156.,  27.,\n",
              "          0.,   0.,   0.,   0.,   0.,   0.],\n",
              "       [  0.,   0.,   0.,   0.,   0.,   0.,   0.,   0.,   0.,   0.,   0.,\n",
              "          9.,  84., 212., 254., 254., 224., 216., 216., 219., 254., 103.,\n",
              "          0.,   0.,   0.,   0.,   0.,   0.],\n",
              "       [  0.,   0.,   0.,   0.,   0.,   0.,   0.,   0.,   0.,   0.,  39.,\n",
              "        172., 254., 250., 161.,  56.,  13.,   0.,   0.,  58., 254., 176.,\n",
              "          0.,   0.,   0.,   0.,   0.,   0.],\n",
              "       [  0.,   0.,   0.,   0.,   0.,   0.,   0.,   0.,   0.,  69., 229.,\n",
              "        254., 217.,  78.,   0.,   0.,   0.,   0.,   0., 176., 254., 107.,\n",
              "          0.,   0.,   0.,   0.,   0.,   0.],\n",
              "       [  0.,   0.,   0.,   0.,   0.,   0.,   0.,   0.,  44., 233., 254.,\n",
              "        131.,  10.,   0.,   0.,   0.,   0.,   0.,   0., 207., 206.,   4.,\n",
              "          0.,   0.,   0.,   0.,   0.,   0.],\n",
              "       [  0.,   0.,   0.,   0.,   0.,   0.,   0.,   0., 183., 254., 184.,\n",
              "          2.,   0.,   0.,   0.,   0.,   0.,   0.,   0., 165., 238., 127.,\n",
              "          0.,   0.,   0.,   0.,   0.,   0.],\n",
              "       [  0.,   0.,   0.,   0.,   0.,   0.,   0.,  85., 248., 247.,  78.,\n",
              "          0.,   0.,   0.,   0.,   0.,   0.,   0.,   0., 144., 254., 197.,\n",
              "          0.,   0.,   0.,   0.,   0.,   0.],\n",
              "       [  0.,   0.,   0.,   0.,   0.,   0.,   3., 188., 254., 123.,   0.,\n",
              "          0.,   0.,   0.,   0.,   0.,   0.,   0., 102., 252., 254.,  86.,\n",
              "          0.,   0.,   0.,   0.,   0.,   0.],\n",
              "       [  0.,   0.,   0.,   0.,   0.,   0., 135., 254., 168.,   7.,   0.,\n",
              "          0.,   0.,   0.,   0.,   0.,   0.,   9., 189., 254., 181.,   2.,\n",
              "          0.,   0.,   0.,   0.,   0.,   0.],\n",
              "       [  0.,   0.,   0.,   0.,   0.,   0., 198., 254.,  78.,   0.,   0.,\n",
              "          0.,   0.,   0.,   0.,   0.,   4., 177., 254., 254., 169.,   0.,\n",
              "          0.,   0.,   0.,   0.,   0.,   0.],\n",
              "       [  0.,   0.,   0.,   0.,   0.,  24., 234., 254.,  19.,   0.,   0.,\n",
              "          0.,   0.,   0.,   0.,  10., 178., 254., 255., 254., 145.,   0.,\n",
              "          0.,   0.,   0.,   0.,   0.,   0.],\n",
              "       [  0.,   0.,   0.,   0.,   0.,  19., 225., 254., 124.,  21.,   0.,\n",
              "          0.,   5.,  38., 132., 220., 252., 153., 244., 251.,  64.,   0.,\n",
              "          0.,   0.,   0.,   0.,   0.,   0.],\n",
              "       [  0.,   0.,   0.,   0.,   0.,   0., 121., 250., 254., 229., 198.,\n",
              "        198., 204., 254., 254., 245.,  96.,  35., 243., 196.,   0.,   0.,\n",
              "          0.,   0.,   0.,   0.,   0.,   0.],\n",
              "       [  0.,   0.,   0.,   0.,   0.,   0.,   0.,  85., 220., 254., 254.,\n",
              "        254., 189., 143.,  85.,  10.,   0., 169., 254., 140.,   0.,   0.,\n",
              "          0.,   0.,   0.,   0.,   0.,   0.],\n",
              "       [  0.,   0.,   0.,   0.,   0.,   0.,   0.,   0.,  11.,  18.,  18.,\n",
              "         18.,   3.,   0.,   0.,   0.,   6., 216., 254.,  53.,   0.,   0.,\n",
              "          0.,   0.,   0.,   0.,   0.,   0.],\n",
              "       [  0.,   0.,   0.,   0.,   0.,   0.,   0.,   0.,   0.,   0.,   0.,\n",
              "          0.,   0.,   0.,   0.,   0.,  87., 254., 215.,   9.,   0.,   0.,\n",
              "          0.,   0.,   0.,   0.,   0.,   0.],\n",
              "       [  0.,   0.,   0.,   0.,   0.,   0.,   0.,   0.,   0.,   0.,   0.,\n",
              "          0.,   0.,   0.,   0.,   0., 170., 254., 140.,   0.,   0.,   0.,\n",
              "          0.,   0.,   0.,   0.,   0.,   0.],\n",
              "       [  0.,   0.,   0.,   0.,   0.,   0.,   0.,   0.,   0.,   0.,   0.,\n",
              "          0.,   0.,   0.,   0.,   0., 198., 254., 113.,   0.,   0.,   0.,\n",
              "          0.,   0.,   0.,   0.,   0.,   0.],\n",
              "       [  0.,   0.,   0.,   0.,   0.,   0.,   0.,   0.,   0.,   0.,   0.,\n",
              "          0.,   0.,   0.,   0.,   0., 198., 254., 113.,   0.,   0.,   0.,\n",
              "          0.,   0.,   0.,   0.,   0.,   0.],\n",
              "       [  0.,   0.,   0.,   0.,   0.,   0.,   0.,   0.,   0.,   0.,   0.,\n",
              "          0.,   0.,   0.,   0.,   0., 198., 254., 113.,   0.,   0.,   0.,\n",
              "          0.,   0.,   0.,   0.,   0.,   0.],\n",
              "       [  0.,   0.,   0.,   0.,   0.,   0.,   0.,   0.,   0.,   0.,   0.,\n",
              "          0.,   0.,   0.,   0.,   0.,   0.,   0.,   0.,   0.,   0.,   0.,\n",
              "          0.,   0.,   0.,   0.,   0.,   0.],\n",
              "       [  0.,   0.,   0.,   0.,   0.,   0.,   0.,   0.,   0.,   0.,   0.,\n",
              "          0.,   0.,   0.,   0.,   0.,   0.,   0.,   0.,   0.,   0.,   0.,\n",
              "          0.,   0.,   0.,   0.,   0.,   0.]])"
            ]
          },
          "execution_count": 5,
          "metadata": {
            "tags": []
          },
          "output_type": "execute_result"
        }
      ],
      "source": [
        "some_digit.reshape(28, 28)"
      ]
    },
    {
      "cell_type": "markdown",
      "metadata": {
        "id": "6X52TjHooDDj"
      },
      "source": [
        "# Divida o dataset entre conjunto de treinamento e teste\n",
        "\n",
        "Utilize 33% para o conjunto de teste"
      ]
    },
    {
      "cell_type": "code",
      "execution_count": null,
      "metadata": {
        "id": "SkNvFpTtoDDk"
      },
      "outputs": [],
      "source": [
        "from sklearn.model_selection import train_test_split\n",
        "x_train,x_test,y_train,y_test = train_test_split(X,y,test_size=0.33)"
      ]
    },
    {
      "cell_type": "markdown",
      "metadata": {
        "id": "evKE_rTgoDDk"
      },
      "source": [
        "# Construa uma arvore de decisão e verifique a acurácia do modelo.\n",
        "\n",
        "Utilize o algoritmos tradicional do `sklearn`"
      ]
    },
    {
      "cell_type": "code",
      "execution_count": null,
      "metadata": {
        "colab": {
          "base_uri": "https://localhost:8080/"
        },
        "id": "tYVegjRYoDDk",
        "outputId": "a906bb7f-5792-4a4d-cb0d-a75eebf44b80"
      },
      "outputs": [
        {
          "data": {
            "text/plain": [
              "DecisionTreeClassifier(ccp_alpha=0.0, class_weight=None, criterion='gini',\n",
              "                       max_depth=None, max_features=None, max_leaf_nodes=None,\n",
              "                       min_impurity_decrease=0.0, min_impurity_split=None,\n",
              "                       min_samples_leaf=1, min_samples_split=2,\n",
              "                       min_weight_fraction_leaf=0.0, presort='deprecated',\n",
              "                       random_state=None, splitter='best')"
            ]
          },
          "execution_count": 7,
          "metadata": {
            "tags": []
          },
          "output_type": "execute_result"
        }
      ],
      "source": [
        "from sklearn.tree import DecisionTreeClassifier\n",
        "import pandas as pd\n",
        "clf_tree = DecisionTreeClassifier()\n",
        "clf_tree.fit(x_train,y_train)"
      ]
    },
    {
      "cell_type": "code",
      "execution_count": null,
      "metadata": {
        "colab": {
          "base_uri": "https://localhost:8080/"
        },
        "id": "JGEkBabwXbmV",
        "outputId": "dc7ed808-4f10-4e8a-fb12-f948d5c19cb5"
      },
      "outputs": [
        {
          "data": {
            "text/plain": [
              "array(['6', '3', '1', ..., '0', '7', '9'], dtype=object)"
            ]
          },
          "execution_count": 8,
          "metadata": {
            "tags": []
          },
          "output_type": "execute_result"
        }
      ],
      "source": [
        "y_test_pred = clf_tree.predict(x_test)\n",
        "y_train_pred = clf_tree.predict(x_train)\n",
        "y_test_pred"
      ]
    },
    {
      "cell_type": "code",
      "execution_count": null,
      "metadata": {
        "colab": {
          "base_uri": "https://localhost:8080/"
        },
        "id": "L-NQuOY8XbmV",
        "outputId": "54221073-852e-404a-a3f5-5fd7473644e3"
      },
      "outputs": [
        {
          "name": "stdout",
          "output_type": "stream",
          "text": [
            "[['1' 1]\n",
            " ['4' 4]\n",
            " ['6' 6]\n",
            " ...\n",
            " ['9' 9]\n",
            " ['6' 6]\n",
            " ['6' 6]]\n"
          ]
        }
      ],
      "source": [
        "print(np.concatenate((y_train_pred.reshape(len(y_train_pred),1),np.array(y_train,int).reshape(len(y_train_pred),1)),1))"
      ]
    },
    {
      "cell_type": "code",
      "execution_count": null,
      "metadata": {
        "colab": {
          "base_uri": "https://localhost:8080/",
          "height": 265
        },
        "id": "n-JZ6ScbXbmW",
        "outputId": "6b443863-19ed-4d4c-ad92-6024d0e8ae8b"
      },
      "outputs": [
        {
          "data": {
            "image/png": "[encoded data removed]",
            "text/plain": [
              "<Figure size 432x288 with 1 Axes>"
            ]
          },
          "metadata": {
            "needs_background": "light",
            "tags": []
          },
          "output_type": "display_data"
        },
        {
          "name": "stdout",
          "output_type": "stream",
          "text": [
            "['8']\n"
          ]
        }
      ],
      "source": [
        "some_digit = np.array(x_train[6000])\n",
        "some_digit_image = some_digit.reshape(28,28)\n",
        "\n",
        "plt.imshow(some_digit_image, cmap = mpl.cm.binary, interpolation=\"nearest\")\n",
        "plt.axis(\"off\")\n",
        "plt.show()\n",
        "\n",
        "print(clf_tree.predict([x_train[6000]]))"
      ]
    },
    {
      "cell_type": "code",
      "execution_count": null,
      "metadata": {
        "colab": {
          "base_uri": "https://localhost:8080/"
        },
        "id": "4W8JH7enXbmW",
        "outputId": "06e8a6fc-1beb-49f2-e579-994a14f248fc"
      },
      "outputs": [
        {
          "name": "stdout",
          "output_type": "stream",
          "text": [
            "A acurácia do treino na Árvore de Decisão é 100.00%\n",
            "A acurácia do teste na Árvore de Decisão é 86.89%\n"
          ]
        }
      ],
      "source": [
        "from sklearn.metrics import accuracy_score\n",
        "print(\"A acurácia do treino na Árvore de Decisão é \"+\"{:.2%}\". format(accuracy_score(y_train,y_train_pred)))\n",
        "print(\"A acurácia do teste na Árvore de Decisão é \"+\"{:.2%}\". format(accuracy_score(y_test,y_test_pred)))\n"
      ]
    },
    {
      "cell_type": "markdown",
      "metadata": {
        "id": "5hYX2WK1oDDk"
      },
      "source": [
        "# Compare a acurácia do modelo de árvore de decisão e um modelo de regressão logística (sklearn)"
      ]
    },
    {
      "cell_type": "code",
      "execution_count": null,
      "metadata": {
        "colab": {
          "base_uri": "https://localhost:8080/"
        },
        "id": "BW_ESpFhoDDk",
        "outputId": "f0951bcc-6b68-4bc0-be16-0f7db25cabbb"
      },
      "outputs": [
        {
          "name": "stderr",
          "output_type": "stream",
          "text": [
            "/usr/local/lib/python3.7/dist-packages/sklearn/linear_model/_logistic.py:940: ConvergenceWarning: lbfgs failed to converge (status=1):\n",
            "STOP: TOTAL NO. of ITERATIONS REACHED LIMIT.\n",
            "\n",
            "Increase the number of iterations (max_iter) or scale the data as shown in:\n",
            "    https://scikit-learn.org/stable/modules/preprocessing.html\n",
            "Please also refer to the documentation for alternative solver options:\n",
            "    https://scikit-learn.org/stable/modules/linear_model.html#logistic-regression\n",
            "  extra_warning_msg=_LOGISTIC_SOLVER_CONVERGENCE_MSG)\n"
          ]
        },
        {
          "data": {
            "text/plain": [
              "LogisticRegression(C=1.0, class_weight=None, dual=False, fit_intercept=True,\n",
              "                   intercept_scaling=1, l1_ratio=None, max_iter=100,\n",
              "                   multi_class='auto', n_jobs=None, penalty='l2',\n",
              "                   random_state=None, solver='lbfgs', tol=0.0001, verbose=0,\n",
              "                   warm_start=False)"
            ]
          },
          "execution_count": 14,
          "metadata": {
            "tags": []
          },
          "output_type": "execute_result"
        }
      ],
      "source": [
        "from sklearn.linear_model import LogisticRegression\n",
        "clf_log = LogisticRegression()\n",
        "clf_log.fit(x_train,y_train)"
      ]
    },
    {
      "cell_type": "code",
      "execution_count": null,
      "metadata": {
        "colab": {
          "base_uri": "https://localhost:8080/"
        },
        "id": "UQEQurWJXbmX",
        "outputId": "9eec9f8a-3d4e-443d-d01e-59faf35cfa9f"
      },
      "outputs": [
        {
          "name": "stdout",
          "output_type": "stream",
          "text": [
            "['6' '3' '1' ... '0' '9' '9']\n",
            "['1' '4' '6' ... '9' '6' '6']\n"
          ]
        }
      ],
      "source": [
        "y_test_pred_log = clf_log.predict(x_test)\n",
        "y_train_pred_log = clf_log.predict(x_train)\n",
        "print(y_test_pred_log)\n",
        "print(y_train_pred_log)"
      ]
    },
    {
      "cell_type": "code",
      "execution_count": null,
      "metadata": {
        "colab": {
          "base_uri": "https://localhost:8080/"
        },
        "id": "fp16HLadXbmX",
        "outputId": "5fa24abf-b3bf-4571-d94b-a0981b2da238"
      },
      "outputs": [
        {
          "name": "stdout",
          "output_type": "stream",
          "text": [
            "[['1' 1]\n",
            " ['4' 4]\n",
            " ['6' 6]\n",
            " ...\n",
            " ['9' 9]\n",
            " ['6' 6]\n",
            " ['6' 6]]\n"
          ]
        }
      ],
      "source": [
        "print(np.concatenate((y_train_pred_log.reshape(len(y_train_pred_log),1),np.array(y_train,int).reshape(len(y_train_pred_log),1)),1))"
      ]
    },
    {
      "cell_type": "code",
      "execution_count": null,
      "metadata": {
        "colab": {
          "base_uri": "https://localhost:8080/",
          "height": 265
        },
        "id": "H__ldbYBXbmX",
        "outputId": "789edeed-9212-4482-c5ff-c179b2503bfd"
      },
      "outputs": [
        {
          "data": {
            "image/png": "[encoded data removed]",
            "text/plain": [
              "<Figure size 432x288 with 1 Axes>"
            ]
          },
          "metadata": {
            "needs_background": "light",
            "tags": []
          },
          "output_type": "display_data"
        },
        {
          "name": "stdout",
          "output_type": "stream",
          "text": [
            "['0']\n"
          ]
        }
      ],
      "source": [
        "some_digit = np.array(x_train[4000])\n",
        "some_digit_image = some_digit.reshape(28,28)\n",
        "\n",
        "plt.imshow(some_digit_image, cmap = mpl.cm.binary, interpolation=\"nearest\")\n",
        "plt.axis(\"off\")\n",
        "plt.show()\n",
        "\n",
        "print(clf_log.predict([x_train[4000]]))"
      ]
    },
    {
      "cell_type": "code",
      "execution_count": null,
      "metadata": {
        "colab": {
          "base_uri": "https://localhost:8080/"
        },
        "id": "Z4_OUn5XXbmY",
        "outputId": "32672f58-8fa2-4f60-e269-b6e6adb8d2db"
      },
      "outputs": [
        {
          "name": "stdout",
          "output_type": "stream",
          "text": [
            "A acurácia do treino na Árvore de Decisão é 100.00%\n",
            "A acurácia do treino na Regressão Logística é 93.57%\n",
            "A acurácia do teste na Árvore de Decisão é 86.89%\n",
            "A acurácia do teste na Regressão Logística é 92.13%\n"
          ]
        }
      ],
      "source": [
        "from sklearn.metrics import accuracy_score\n",
        "\n",
        "print(\"A acurácia do treino na Árvore de Decisão é \"+\"{:.2%}\". format(accuracy_score(y_train,y_train_pred)))\n",
        "print(\"A acurácia do treino na Regressão Logística é \"+\"{:.2%}\". format(accuracy_score(y_train,y_train_pred_log)))\n",
        "\n",
        "print(\"A acurácia do teste na Árvore de Decisão é \"+\"{:.2%}\". format(accuracy_score(y_test,y_test_pred)))\n",
        "print(\"A acurácia do teste na Regressão Logística é \"+\"{:.2%}\". format(accuracy_score(y_test,y_test_pred_log)))"
      ]
    },
    {
      "cell_type": "code",
      "execution_count": null,
      "metadata": {
        "colab": {
          "base_uri": "https://localhost:8080/"
        },
        "id": "qQ3HXI23XbmY",
        "outputId": "3c6a921b-f5e1-4fd6-e3df-7acb3963639a"
      },
      "outputs": [
        {
          "name": "stdout",
          "output_type": "stream",
          "text": [
            "A acurácia média da Árvore de Decisão é 93.45%\n",
            "A acurácia média da Regressão Logística é 92.85%\n"
          ]
        }
      ],
      "source": [
        "mean_tree = (accuracy_score(y_train,y_train_pred)+accuracy_score(y_test,y_test_pred))/2\n",
        "mean_log =  (accuracy_score(y_train,y_train_pred_log)+accuracy_score(y_test,y_test_pred_log))/2\n",
        "print(\"A acurácia média da Árvore de Decisão é \"+ \"{:.2%}\". format(mean_tree))\n",
        "print(\"A acurácia média da Regressão Logística é \"+\"{:.2%}\". format(mean_log))"
      ]
    },
    {
      "cell_type": "markdown",
      "metadata": {
        "id": "skUoLF2ZoDDl"
      },
      "source": [
        "# Desafio\n",
        "\n",
        "Implemente o algoritmo CART utilizando apenas o numpy e pandas e aplique no dataset MNIST"
      ]
    },
    {
      "cell_type": "code",
      "execution_count": null,
      "metadata": {
        "id": "OzE9zuLwXbmY"
      },
      "outputs": [],
      "source": [
        "def split_sets(dataset, feature, threshold):\n",
        "    \"\"\"\n",
        "    Return the indexes of dataset below and higher the\n",
        "    threshold.\n",
        "    \"\"\"\n",
        "    # Calculate the index of feature\n",
        "    feature_index = dataset.feature_names.index(feature)\n",
        "\n",
        "    # Evaluate left set\n",
        "    left_set = set(\n",
        "        [\n",
        "            index\n",
        "            for index, entry in enumerate(dataset.data)\n",
        "            if entry[feature_index] <= threshold\n",
        "        ]\n",
        "    )\n",
        "\n",
        "    # Calculate the right set by complement\n",
        "    complete_set = set(range(len(dataset.data)))\n",
        "    right_set = complete_set - left_set\n",
        "\n",
        "    return left_set, right_set"
      ]
    },
    {
      "cell_type": "code",
      "execution_count": null,
      "metadata": {
        "id": "763XfJDpoDDl"
      },
      "outputs": [],
      "source": [
        "def gini(dataset, nodeset):\n",
        "\n",
        "    labels = [dataset.target[i] for i in nodeset]\n",
        "\n",
        "    # Counts labels in dataset\n",
        "    counts = [\n",
        "        labels.count(index) / len(nodeset)\n",
        "        for index, label in enumerate(dataset.target_names)\n",
        "    ]\n",
        "\n",
        "    G = 1 - np.sum([count**2 for count in counts])\n",
        "    return G"
      ]
    },
    {
      "cell_type": "code",
      "execution_count": null,
      "metadata": {
        "id": "Q-if-9IjXbmZ"
      },
      "outputs": [],
      "source": [
        "def calculate_cost(dataset, feature, threshold):\n",
        "    # Divide dataset\n",
        "\n",
        "    left_set, right_set = split_sets(\n",
        "        dataset, feature, threshold\n",
        "    )\n",
        "    gini_left = gini(dataset, left_set)\n",
        "    gini_right = gini(dataset, right_set)\n",
        "\n",
        "    total_len = len(left_set) + len(right_set)\n",
        "    J = gini_left*len(left_set)/total_len + gini_right*len(right_set)/total_len\n",
        "    return J"
      ]
    },
    {
      "cell_type": "code",
      "execution_count": null,
      "metadata": {
        "colab": {
          "base_uri": "https://localhost:8080/"
        },
        "id": "hn7mFyOdXbmZ",
        "outputId": "e0600c55-ffe3-4bfb-bd7e-707414466f1e"
      },
      "outputs": [
        {
          "data": {
            "text/plain": [
              "['pixel1',\n",
              " 'pixel2',\n",
              " 'pixel3',\n",
              " 'pixel4',\n",
              " 'pixel5',\n",
              " 'pixel6',\n",
              " 'pixel7',\n",
              " 'pixel8',\n",
              " 'pixel9',\n",
              " 'pixel10',\n",
              " 'pixel11',\n",
              " 'pixel12',\n",
              " 'pixel13',\n",
              " 'pixel14',\n",
              " 'pixel15',\n",
              " 'pixel16',\n",
              " 'pixel17',\n",
              " 'pixel18',\n",
              " 'pixel19',\n",
              " 'pixel20',\n",
              " 'pixel21',\n",
              " 'pixel22',\n",
              " 'pixel23',\n",
              " 'pixel24',\n",
              " 'pixel25',\n",
              " 'pixel26',\n",
              " 'pixel27',\n",
              " 'pixel28',\n",
              " 'pixel29',\n",
              " 'pixel30',\n",
              " 'pixel31',\n",
              " 'pixel32',\n",
              " 'pixel33',\n",
              " 'pixel34',\n",
              " 'pixel35',\n",
              " 'pixel36',\n",
              " 'pixel37',\n",
              " 'pixel38',\n",
              " 'pixel39',\n",
              " 'pixel40',\n",
              " 'pixel41',\n",
              " 'pixel42',\n",
              " 'pixel43',\n",
              " 'pixel44',\n",
              " 'pixel45',\n",
              " 'pixel46',\n",
              " 'pixel47',\n",
              " 'pixel48',\n",
              " 'pixel49',\n",
              " 'pixel50',\n",
              " 'pixel51',\n",
              " 'pixel52',\n",
              " 'pixel53',\n",
              " 'pixel54',\n",
              " 'pixel55',\n",
              " 'pixel56',\n",
              " 'pixel57',\n",
              " 'pixel58',\n",
              " 'pixel59',\n",
              " 'pixel60',\n",
              " 'pixel61',\n",
              " 'pixel62',\n",
              " 'pixel63',\n",
              " 'pixel64',\n",
              " 'pixel65',\n",
              " 'pixel66',\n",
              " 'pixel67',\n",
              " 'pixel68',\n",
              " 'pixel69',\n",
              " 'pixel70',\n",
              " 'pixel71',\n",
              " 'pixel72',\n",
              " 'pixel73',\n",
              " 'pixel74',\n",
              " 'pixel75',\n",
              " 'pixel76',\n",
              " 'pixel77',\n",
              " 'pixel78',\n",
              " 'pixel79',\n",
              " 'pixel80',\n",
              " 'pixel81',\n",
              " 'pixel82',\n",
              " 'pixel83',\n",
              " 'pixel84',\n",
              " 'pixel85',\n",
              " 'pixel86',\n",
              " 'pixel87',\n",
              " 'pixel88',\n",
              " 'pixel89',\n",
              " 'pixel90',\n",
              " 'pixel91',\n",
              " 'pixel92',\n",
              " 'pixel93',\n",
              " 'pixel94',\n",
              " 'pixel95',\n",
              " 'pixel96',\n",
              " 'pixel97',\n",
              " 'pixel98',\n",
              " 'pixel99',\n",
              " 'pixel100',\n",
              " 'pixel101',\n",
              " 'pixel102',\n",
              " 'pixel103',\n",
              " 'pixel104',\n",
              " 'pixel105',\n",
              " 'pixel106',\n",
              " 'pixel107',\n",
              " 'pixel108',\n",
              " 'pixel109',\n",
              " 'pixel110',\n",
              " 'pixel111',\n",
              " 'pixel112',\n",
              " 'pixel113',\n",
              " 'pixel114',\n",
              " 'pixel115',\n",
              " 'pixel116',\n",
              " 'pixel117',\n",
              " 'pixel118',\n",
              " 'pixel119',\n",
              " 'pixel120',\n",
              " 'pixel121',\n",
              " 'pixel122',\n",
              " 'pixel123',\n",
              " 'pixel124',\n",
              " 'pixel125',\n",
              " 'pixel126',\n",
              " 'pixel127',\n",
              " 'pixel128',\n",
              " 'pixel129',\n",
              " 'pixel130',\n",
              " 'pixel131',\n",
              " 'pixel132',\n",
              " 'pixel133',\n",
              " 'pixel134',\n",
              " 'pixel135',\n",
              " 'pixel136',\n",
              " 'pixel137',\n",
              " 'pixel138',\n",
              " 'pixel139',\n",
              " 'pixel140',\n",
              " 'pixel141',\n",
              " 'pixel142',\n",
              " 'pixel143',\n",
              " 'pixel144',\n",
              " 'pixel145',\n",
              " 'pixel146',\n",
              " 'pixel147',\n",
              " 'pixel148',\n",
              " 'pixel149',\n",
              " 'pixel150',\n",
              " 'pixel151',\n",
              " 'pixel152',\n",
              " 'pixel153',\n",
              " 'pixel154',\n",
              " 'pixel155',\n",
              " 'pixel156',\n",
              " 'pixel157',\n",
              " 'pixel158',\n",
              " 'pixel159',\n",
              " 'pixel160',\n",
              " 'pixel161',\n",
              " 'pixel162',\n",
              " 'pixel163',\n",
              " 'pixel164',\n",
              " 'pixel165',\n",
              " 'pixel166',\n",
              " 'pixel167',\n",
              " 'pixel168',\n",
              " 'pixel169',\n",
              " 'pixel170',\n",
              " 'pixel171',\n",
              " 'pixel172',\n",
              " 'pixel173',\n",
              " 'pixel174',\n",
              " 'pixel175',\n",
              " 'pixel176',\n",
              " 'pixel177',\n",
              " 'pixel178',\n",
              " 'pixel179',\n",
              " 'pixel180',\n",
              " 'pixel181',\n",
              " 'pixel182',\n",
              " 'pixel183',\n",
              " 'pixel184',\n",
              " 'pixel185',\n",
              " 'pixel186',\n",
              " 'pixel187',\n",
              " 'pixel188',\n",
              " 'pixel189',\n",
              " 'pixel190',\n",
              " 'pixel191',\n",
              " 'pixel192',\n",
              " 'pixel193',\n",
              " 'pixel194',\n",
              " 'pixel195',\n",
              " 'pixel196',\n",
              " 'pixel197',\n",
              " 'pixel198',\n",
              " 'pixel199',\n",
              " 'pixel200',\n",
              " 'pixel201',\n",
              " 'pixel202',\n",
              " 'pixel203',\n",
              " 'pixel204',\n",
              " 'pixel205',\n",
              " 'pixel206',\n",
              " 'pixel207',\n",
              " 'pixel208',\n",
              " 'pixel209',\n",
              " 'pixel210',\n",
              " 'pixel211',\n",
              " 'pixel212',\n",
              " 'pixel213',\n",
              " 'pixel214',\n",
              " 'pixel215',\n",
              " 'pixel216',\n",
              " 'pixel217',\n",
              " 'pixel218',\n",
              " 'pixel219',\n",
              " 'pixel220',\n",
              " 'pixel221',\n",
              " 'pixel222',\n",
              " 'pixel223',\n",
              " 'pixel224',\n",
              " 'pixel225',\n",
              " 'pixel226',\n",
              " 'pixel227',\n",
              " 'pixel228',\n",
              " 'pixel229',\n",
              " 'pixel230',\n",
              " 'pixel231',\n",
              " 'pixel232',\n",
              " 'pixel233',\n",
              " 'pixel234',\n",
              " 'pixel235',\n",
              " 'pixel236',\n",
              " 'pixel237',\n",
              " 'pixel238',\n",
              " 'pixel239',\n",
              " 'pixel240',\n",
              " 'pixel241',\n",
              " 'pixel242',\n",
              " 'pixel243',\n",
              " 'pixel244',\n",
              " 'pixel245',\n",
              " 'pixel246',\n",
              " 'pixel247',\n",
              " 'pixel248',\n",
              " 'pixel249',\n",
              " 'pixel250',\n",
              " 'pixel251',\n",
              " 'pixel252',\n",
              " 'pixel253',\n",
              " 'pixel254',\n",
              " 'pixel255',\n",
              " 'pixel256',\n",
              " 'pixel257',\n",
              " 'pixel258',\n",
              " 'pixel259',\n",
              " 'pixel260',\n",
              " 'pixel261',\n",
              " 'pixel262',\n",
              " 'pixel263',\n",
              " 'pixel264',\n",
              " 'pixel265',\n",
              " 'pixel266',\n",
              " 'pixel267',\n",
              " 'pixel268',\n",
              " 'pixel269',\n",
              " 'pixel270',\n",
              " 'pixel271',\n",
              " 'pixel272',\n",
              " 'pixel273',\n",
              " 'pixel274',\n",
              " 'pixel275',\n",
              " 'pixel276',\n",
              " 'pixel277',\n",
              " 'pixel278',\n",
              " 'pixel279',\n",
              " 'pixel280',\n",
              " 'pixel281',\n",
              " 'pixel282',\n",
              " 'pixel283',\n",
              " 'pixel284',\n",
              " 'pixel285',\n",
              " 'pixel286',\n",
              " 'pixel287',\n",
              " 'pixel288',\n",
              " 'pixel289',\n",
              " 'pixel290',\n",
              " 'pixel291',\n",
              " 'pixel292',\n",
              " 'pixel293',\n",
              " 'pixel294',\n",
              " 'pixel295',\n",
              " 'pixel296',\n",
              " 'pixel297',\n",
              " 'pixel298',\n",
              " 'pixel299',\n",
              " 'pixel300',\n",
              " 'pixel301',\n",
              " 'pixel302',\n",
              " 'pixel303',\n",
              " 'pixel304',\n",
              " 'pixel305',\n",
              " 'pixel306',\n",
              " 'pixel307',\n",
              " 'pixel308',\n",
              " 'pixel309',\n",
              " 'pixel310',\n",
              " 'pixel311',\n",
              " 'pixel312',\n",
              " 'pixel313',\n",
              " 'pixel314',\n",
              " 'pixel315',\n",
              " 'pixel316',\n",
              " 'pixel317',\n",
              " 'pixel318',\n",
              " 'pixel319',\n",
              " 'pixel320',\n",
              " 'pixel321',\n",
              " 'pixel322',\n",
              " 'pixel323',\n",
              " 'pixel324',\n",
              " 'pixel325',\n",
              " 'pixel326',\n",
              " 'pixel327',\n",
              " 'pixel328',\n",
              " 'pixel329',\n",
              " 'pixel330',\n",
              " 'pixel331',\n",
              " 'pixel332',\n",
              " 'pixel333',\n",
              " 'pixel334',\n",
              " 'pixel335',\n",
              " 'pixel336',\n",
              " 'pixel337',\n",
              " 'pixel338',\n",
              " 'pixel339',\n",
              " 'pixel340',\n",
              " 'pixel341',\n",
              " 'pixel342',\n",
              " 'pixel343',\n",
              " 'pixel344',\n",
              " 'pixel345',\n",
              " 'pixel346',\n",
              " 'pixel347',\n",
              " 'pixel348',\n",
              " 'pixel349',\n",
              " 'pixel350',\n",
              " 'pixel351',\n",
              " 'pixel352',\n",
              " 'pixel353',\n",
              " 'pixel354',\n",
              " 'pixel355',\n",
              " 'pixel356',\n",
              " 'pixel357',\n",
              " 'pixel358',\n",
              " 'pixel359',\n",
              " 'pixel360',\n",
              " 'pixel361',\n",
              " 'pixel362',\n",
              " 'pixel363',\n",
              " 'pixel364',\n",
              " 'pixel365',\n",
              " 'pixel366',\n",
              " 'pixel367',\n",
              " 'pixel368',\n",
              " 'pixel369',\n",
              " 'pixel370',\n",
              " 'pixel371',\n",
              " 'pixel372',\n",
              " 'pixel373',\n",
              " 'pixel374',\n",
              " 'pixel375',\n",
              " 'pixel376',\n",
              " 'pixel377',\n",
              " 'pixel378',\n",
              " 'pixel379',\n",
              " 'pixel380',\n",
              " 'pixel381',\n",
              " 'pixel382',\n",
              " 'pixel383',\n",
              " 'pixel384',\n",
              " 'pixel385',\n",
              " 'pixel386',\n",
              " 'pixel387',\n",
              " 'pixel388',\n",
              " 'pixel389',\n",
              " 'pixel390',\n",
              " 'pixel391',\n",
              " 'pixel392',\n",
              " 'pixel393',\n",
              " 'pixel394',\n",
              " 'pixel395',\n",
              " 'pixel396',\n",
              " 'pixel397',\n",
              " 'pixel398',\n",
              " 'pixel399',\n",
              " 'pixel400',\n",
              " 'pixel401',\n",
              " 'pixel402',\n",
              " 'pixel403',\n",
              " 'pixel404',\n",
              " 'pixel405',\n",
              " 'pixel406',\n",
              " 'pixel407',\n",
              " 'pixel408',\n",
              " 'pixel409',\n",
              " 'pixel410',\n",
              " 'pixel411',\n",
              " 'pixel412',\n",
              " 'pixel413',\n",
              " 'pixel414',\n",
              " 'pixel415',\n",
              " 'pixel416',\n",
              " 'pixel417',\n",
              " 'pixel418',\n",
              " 'pixel419',\n",
              " 'pixel420',\n",
              " 'pixel421',\n",
              " 'pixel422',\n",
              " 'pixel423',\n",
              " 'pixel424',\n",
              " 'pixel425',\n",
              " 'pixel426',\n",
              " 'pixel427',\n",
              " 'pixel428',\n",
              " 'pixel429',\n",
              " 'pixel430',\n",
              " 'pixel431',\n",
              " 'pixel432',\n",
              " 'pixel433',\n",
              " 'pixel434',\n",
              " 'pixel435',\n",
              " 'pixel436',\n",
              " 'pixel437',\n",
              " 'pixel438',\n",
              " 'pixel439',\n",
              " 'pixel440',\n",
              " 'pixel441',\n",
              " 'pixel442',\n",
              " 'pixel443',\n",
              " 'pixel444',\n",
              " 'pixel445',\n",
              " 'pixel446',\n",
              " 'pixel447',\n",
              " 'pixel448',\n",
              " 'pixel449',\n",
              " 'pixel450',\n",
              " 'pixel451',\n",
              " 'pixel452',\n",
              " 'pixel453',\n",
              " 'pixel454',\n",
              " 'pixel455',\n",
              " 'pixel456',\n",
              " 'pixel457',\n",
              " 'pixel458',\n",
              " 'pixel459',\n",
              " 'pixel460',\n",
              " 'pixel461',\n",
              " 'pixel462',\n",
              " 'pixel463',\n",
              " 'pixel464',\n",
              " 'pixel465',\n",
              " 'pixel466',\n",
              " 'pixel467',\n",
              " 'pixel468',\n",
              " 'pixel469',\n",
              " 'pixel470',\n",
              " 'pixel471',\n",
              " 'pixel472',\n",
              " 'pixel473',\n",
              " 'pixel474',\n",
              " 'pixel475',\n",
              " 'pixel476',\n",
              " 'pixel477',\n",
              " 'pixel478',\n",
              " 'pixel479',\n",
              " 'pixel480',\n",
              " 'pixel481',\n",
              " 'pixel482',\n",
              " 'pixel483',\n",
              " 'pixel484',\n",
              " 'pixel485',\n",
              " 'pixel486',\n",
              " 'pixel487',\n",
              " 'pixel488',\n",
              " 'pixel489',\n",
              " 'pixel490',\n",
              " 'pixel491',\n",
              " 'pixel492',\n",
              " 'pixel493',\n",
              " 'pixel494',\n",
              " 'pixel495',\n",
              " 'pixel496',\n",
              " 'pixel497',\n",
              " 'pixel498',\n",
              " 'pixel499',\n",
              " 'pixel500',\n",
              " 'pixel501',\n",
              " 'pixel502',\n",
              " 'pixel503',\n",
              " 'pixel504',\n",
              " 'pixel505',\n",
              " 'pixel506',\n",
              " 'pixel507',\n",
              " 'pixel508',\n",
              " 'pixel509',\n",
              " 'pixel510',\n",
              " 'pixel511',\n",
              " 'pixel512',\n",
              " 'pixel513',\n",
              " 'pixel514',\n",
              " 'pixel515',\n",
              " 'pixel516',\n",
              " 'pixel517',\n",
              " 'pixel518',\n",
              " 'pixel519',\n",
              " 'pixel520',\n",
              " 'pixel521',\n",
              " 'pixel522',\n",
              " 'pixel523',\n",
              " 'pixel524',\n",
              " 'pixel525',\n",
              " 'pixel526',\n",
              " 'pixel527',\n",
              " 'pixel528',\n",
              " 'pixel529',\n",
              " 'pixel530',\n",
              " 'pixel531',\n",
              " 'pixel532',\n",
              " 'pixel533',\n",
              " 'pixel534',\n",
              " 'pixel535',\n",
              " 'pixel536',\n",
              " 'pixel537',\n",
              " 'pixel538',\n",
              " 'pixel539',\n",
              " 'pixel540',\n",
              " 'pixel541',\n",
              " 'pixel542',\n",
              " 'pixel543',\n",
              " 'pixel544',\n",
              " 'pixel545',\n",
              " 'pixel546',\n",
              " 'pixel547',\n",
              " 'pixel548',\n",
              " 'pixel549',\n",
              " 'pixel550',\n",
              " 'pixel551',\n",
              " 'pixel552',\n",
              " 'pixel553',\n",
              " 'pixel554',\n",
              " 'pixel555',\n",
              " 'pixel556',\n",
              " 'pixel557',\n",
              " 'pixel558',\n",
              " 'pixel559',\n",
              " 'pixel560',\n",
              " 'pixel561',\n",
              " 'pixel562',\n",
              " 'pixel563',\n",
              " 'pixel564',\n",
              " 'pixel565',\n",
              " 'pixel566',\n",
              " 'pixel567',\n",
              " 'pixel568',\n",
              " 'pixel569',\n",
              " 'pixel570',\n",
              " 'pixel571',\n",
              " 'pixel572',\n",
              " 'pixel573',\n",
              " 'pixel574',\n",
              " 'pixel575',\n",
              " 'pixel576',\n",
              " 'pixel577',\n",
              " 'pixel578',\n",
              " 'pixel579',\n",
              " 'pixel580',\n",
              " 'pixel581',\n",
              " 'pixel582',\n",
              " 'pixel583',\n",
              " 'pixel584',\n",
              " 'pixel585',\n",
              " 'pixel586',\n",
              " 'pixel587',\n",
              " 'pixel588',\n",
              " 'pixel589',\n",
              " 'pixel590',\n",
              " 'pixel591',\n",
              " 'pixel592',\n",
              " 'pixel593',\n",
              " 'pixel594',\n",
              " 'pixel595',\n",
              " 'pixel596',\n",
              " 'pixel597',\n",
              " 'pixel598',\n",
              " 'pixel599',\n",
              " 'pixel600',\n",
              " 'pixel601',\n",
              " 'pixel602',\n",
              " 'pixel603',\n",
              " 'pixel604',\n",
              " 'pixel605',\n",
              " 'pixel606',\n",
              " 'pixel607',\n",
              " 'pixel608',\n",
              " 'pixel609',\n",
              " 'pixel610',\n",
              " 'pixel611',\n",
              " 'pixel612',\n",
              " 'pixel613',\n",
              " 'pixel614',\n",
              " 'pixel615',\n",
              " 'pixel616',\n",
              " 'pixel617',\n",
              " 'pixel618',\n",
              " 'pixel619',\n",
              " 'pixel620',\n",
              " 'pixel621',\n",
              " 'pixel622',\n",
              " 'pixel623',\n",
              " 'pixel624',\n",
              " 'pixel625',\n",
              " 'pixel626',\n",
              " 'pixel627',\n",
              " 'pixel628',\n",
              " 'pixel629',\n",
              " 'pixel630',\n",
              " 'pixel631',\n",
              " 'pixel632',\n",
              " 'pixel633',\n",
              " 'pixel634',\n",
              " 'pixel635',\n",
              " 'pixel636',\n",
              " 'pixel637',\n",
              " 'pixel638',\n",
              " 'pixel639',\n",
              " 'pixel640',\n",
              " 'pixel641',\n",
              " 'pixel642',\n",
              " 'pixel643',\n",
              " 'pixel644',\n",
              " 'pixel645',\n",
              " 'pixel646',\n",
              " 'pixel647',\n",
              " 'pixel648',\n",
              " 'pixel649',\n",
              " 'pixel650',\n",
              " 'pixel651',\n",
              " 'pixel652',\n",
              " 'pixel653',\n",
              " 'pixel654',\n",
              " 'pixel655',\n",
              " 'pixel656',\n",
              " 'pixel657',\n",
              " 'pixel658',\n",
              " 'pixel659',\n",
              " 'pixel660',\n",
              " 'pixel661',\n",
              " 'pixel662',\n",
              " 'pixel663',\n",
              " 'pixel664',\n",
              " 'pixel665',\n",
              " 'pixel666',\n",
              " 'pixel667',\n",
              " 'pixel668',\n",
              " 'pixel669',\n",
              " 'pixel670',\n",
              " 'pixel671',\n",
              " 'pixel672',\n",
              " 'pixel673',\n",
              " 'pixel674',\n",
              " 'pixel675',\n",
              " 'pixel676',\n",
              " 'pixel677',\n",
              " 'pixel678',\n",
              " 'pixel679',\n",
              " 'pixel680',\n",
              " 'pixel681',\n",
              " 'pixel682',\n",
              " 'pixel683',\n",
              " 'pixel684',\n",
              " 'pixel685',\n",
              " 'pixel686',\n",
              " 'pixel687',\n",
              " 'pixel688',\n",
              " 'pixel689',\n",
              " 'pixel690',\n",
              " 'pixel691',\n",
              " 'pixel692',\n",
              " 'pixel693',\n",
              " 'pixel694',\n",
              " 'pixel695',\n",
              " 'pixel696',\n",
              " 'pixel697',\n",
              " 'pixel698',\n",
              " 'pixel699',\n",
              " 'pixel700',\n",
              " 'pixel701',\n",
              " 'pixel702',\n",
              " 'pixel703',\n",
              " 'pixel704',\n",
              " 'pixel705',\n",
              " 'pixel706',\n",
              " 'pixel707',\n",
              " 'pixel708',\n",
              " 'pixel709',\n",
              " 'pixel710',\n",
              " 'pixel711',\n",
              " 'pixel712',\n",
              " 'pixel713',\n",
              " 'pixel714',\n",
              " 'pixel715',\n",
              " 'pixel716',\n",
              " 'pixel717',\n",
              " 'pixel718',\n",
              " 'pixel719',\n",
              " 'pixel720',\n",
              " 'pixel721',\n",
              " 'pixel722',\n",
              " 'pixel723',\n",
              " 'pixel724',\n",
              " 'pixel725',\n",
              " 'pixel726',\n",
              " 'pixel727',\n",
              " 'pixel728',\n",
              " 'pixel729',\n",
              " 'pixel730',\n",
              " 'pixel731',\n",
              " 'pixel732',\n",
              " 'pixel733',\n",
              " 'pixel734',\n",
              " 'pixel735',\n",
              " 'pixel736',\n",
              " 'pixel737',\n",
              " 'pixel738',\n",
              " 'pixel739',\n",
              " 'pixel740',\n",
              " 'pixel741',\n",
              " 'pixel742',\n",
              " 'pixel743',\n",
              " 'pixel744',\n",
              " 'pixel745',\n",
              " 'pixel746',\n",
              " 'pixel747',\n",
              " 'pixel748',\n",
              " 'pixel749',\n",
              " 'pixel750',\n",
              " 'pixel751',\n",
              " 'pixel752',\n",
              " 'pixel753',\n",
              " 'pixel754',\n",
              " 'pixel755',\n",
              " 'pixel756',\n",
              " 'pixel757',\n",
              " 'pixel758',\n",
              " 'pixel759',\n",
              " 'pixel760',\n",
              " 'pixel761',\n",
              " 'pixel762',\n",
              " 'pixel763',\n",
              " 'pixel764',\n",
              " 'pixel765',\n",
              " 'pixel766',\n",
              " 'pixel767',\n",
              " 'pixel768',\n",
              " 'pixel769',\n",
              " 'pixel770',\n",
              " 'pixel771',\n",
              " 'pixel772',\n",
              " 'pixel773',\n",
              " 'pixel774',\n",
              " 'pixel775',\n",
              " 'pixel776',\n",
              " 'pixel777',\n",
              " 'pixel778',\n",
              " 'pixel779',\n",
              " 'pixel780',\n",
              " 'pixel781',\n",
              " 'pixel782',\n",
              " 'pixel783',\n",
              " 'pixel784']"
            ]
          },
          "execution_count": 23,
          "metadata": {
            "tags": []
          },
          "output_type": "execute_result"
        }
      ],
      "source": [
        "mnist.feature_names"
      ]
    },
    {
      "cell_type": "code",
      "execution_count": null,
      "metadata": {
        "id": "sbuG003lXbma"
      },
      "outputs": [],
      "source": [
        "#def calculate_cost(dataset, feature)\n",
        "dataset = mnist\n",
        "feature = 'pixel1'\n",
        "threshold = 2.75\n",
        "y_train,y_test = split_sets(dataset, feature, threshold)"
      ]
    }
  ],
  "metadata": {
    "colab": {
      "provenance": []
    },
    "interpreter": {
      "hash": "2264fa8c2c2a88595339325b3000854e3c242e6a5663397a84233d39954d468d"
    },
    "kernelspec": {
      "display_name": "Python 3.9.6 64-bit",
      "name": "python3"
    },
    "language_info": {
      "codemirror_mode": {
        "name": "ipython",
        "version": 3
      },
      "file_extension": ".py",
      "mimetype": "text/x-python",
      "name": "python",
      "nbconvert_exporter": "python",
      "pygments_lexer": "ipython3",
      "version": "3.9.6"
    }
  },
  "nbformat": 4,
  "nbformat_minor": 0
}
